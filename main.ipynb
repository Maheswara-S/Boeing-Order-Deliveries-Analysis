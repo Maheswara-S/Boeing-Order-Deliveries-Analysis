{
 "cells": [
  {
   "cell_type": "markdown",
   "metadata": {},
   "source": [
    "# Milestone 1\n",
    "\n",
    "By : Maheswara Sinatriyo\n",
    "\n",
    "Batch : HCK-001"
   ]
  },
  {
   "cell_type": "markdown",
   "metadata": {},
   "source": [
    "## Working Area\n",
    "\n",
    "**Objectives**\n",
    "* To observe the growth of Boeing in terms of aircraft order over the year.\n",
    "* Explore, filter, agregate and visualize the dataset to extract usefull insight.\n",
    "\n",
    "**Problem Statement**\n",
    "\n",
    "Boeing is one of the biggest aircraft manufacturer in the world, it was founded in 1916 by William Boeing. In 1997 the company merged with McDonnell Douglas. The dataset contain historical data of Boeing's orders and deliveries. Thus out of all these years, I would like to see how boeing perform in terms of sales (order and delivery), and does it perform well in the last 10 years? Below are the problem breakdown:\n",
    "* How does the total order looks like from all time? How does it compares with total delivery from all time?\n",
    "* What aircraft model is ordered the most in the last 10 years? How does it compares with all years?\n",
    "* What engine is ordered the most in the last 10 years? How does it compares with all years?\n",
    "* Who in terms of company order the most aircraft in the last 10 years? How does it compares with all years?\n",
    "\n",
    "**DATASET**\n",
    "\n",
    "https://www.kaggle.com/datasets/nurielreuven/boeing-historical-airplane-orders-deliveries\n",
    "\n",
    "**DASHBOARD**\n",
    "\n",
    "Dashboard 1: https://public.tableau.com/views/MilestoneDashboard1/Dashboard1?:language=en-US&publish=yes&:display_count=n&:origin=viz_share_link\n",
    "\n",
    "Dashboard 2: https://public.tableau.com/views/MilestoneDashboard2/Dashboard2?:language=en-US&publish=yes&:display_count=n&:origin=viz_share_link\n",
    "\n",
    "Dashboard Story: https://public.tableau.com/views/Milestone2DashboardStory/Story1?:language=en-US&publish=yes&:display_count=n&:origin=viz_share_link"
   ]
  },
  {
   "cell_type": "code",
   "execution_count": 37,
   "metadata": {},
   "outputs": [],
   "source": [
    "import pandas as pd\n",
    "import seaborn as sns\n",
    "import numpy as np\n",
    "import matplotlib.pyplot as plt\n",
    "import seaborn as sns\n",
    "import scipy.stats as stats"
   ]
  },
  {
   "cell_type": "code",
   "execution_count": 38,
   "metadata": {},
   "outputs": [
    {
     "data": {
      "text/html": [
       "<div>\n",
       "<style scoped>\n",
       "    .dataframe tbody tr th:only-of-type {\n",
       "        vertical-align: middle;\n",
       "    }\n",
       "\n",
       "    .dataframe tbody tr th {\n",
       "        vertical-align: top;\n",
       "    }\n",
       "\n",
       "    .dataframe thead th {\n",
       "        text-align: right;\n",
       "    }\n",
       "</style>\n",
       "<table border=\"1\" class=\"dataframe\">\n",
       "  <thead>\n",
       "    <tr style=\"text-align: right;\">\n",
       "      <th></th>\n",
       "      <th>Country</th>\n",
       "      <th>Customer Name</th>\n",
       "      <th>Delivery Year</th>\n",
       "      <th>Engine</th>\n",
       "      <th>Model Series</th>\n",
       "      <th>Order Month</th>\n",
       "      <th>Order Year</th>\n",
       "      <th>Region</th>\n",
       "      <th>Delivery Total</th>\n",
       "      <th>Order Total</th>\n",
       "      <th>Unfilled Orders</th>\n",
       "    </tr>\n",
       "  </thead>\n",
       "  <tbody>\n",
       "    <tr>\n",
       "      <th>0</th>\n",
       "      <td>Afghanistan</td>\n",
       "      <td>Ariana Afghan Airlines</td>\n",
       "      <td>1968</td>\n",
       "      <td>PW</td>\n",
       "      <td>727</td>\n",
       "      <td>Mar</td>\n",
       "      <td>1968</td>\n",
       "      <td>Central Asia</td>\n",
       "      <td>1</td>\n",
       "      <td>1</td>\n",
       "      <td>NaN</td>\n",
       "    </tr>\n",
       "    <tr>\n",
       "      <th>1</th>\n",
       "      <td>Afghanistan</td>\n",
       "      <td>Ariana Afghan Airlines</td>\n",
       "      <td>1970</td>\n",
       "      <td>PW</td>\n",
       "      <td>727</td>\n",
       "      <td>Apr</td>\n",
       "      <td>1969</td>\n",
       "      <td>Central Asia</td>\n",
       "      <td>1</td>\n",
       "      <td>1</td>\n",
       "      <td>NaN</td>\n",
       "    </tr>\n",
       "    <tr>\n",
       "      <th>2</th>\n",
       "      <td>Afghanistan</td>\n",
       "      <td>Ariana Afghan Airlines</td>\n",
       "      <td>1979</td>\n",
       "      <td>GE</td>\n",
       "      <td>DC-10</td>\n",
       "      <td>Sep</td>\n",
       "      <td>1978</td>\n",
       "      <td>Central Asia</td>\n",
       "      <td>1</td>\n",
       "      <td>1</td>\n",
       "      <td>NaN</td>\n",
       "    </tr>\n",
       "    <tr>\n",
       "      <th>3</th>\n",
       "      <td>Afghanistan</td>\n",
       "      <td>Ariana Afghan Airlines</td>\n",
       "      <td>NaN</td>\n",
       "      <td>CF</td>\n",
       "      <td>737-700</td>\n",
       "      <td>Nov</td>\n",
       "      <td>2005</td>\n",
       "      <td>Central Asia</td>\n",
       "      <td>0</td>\n",
       "      <td>4</td>\n",
       "      <td>NaN</td>\n",
       "    </tr>\n",
       "    <tr>\n",
       "      <th>4</th>\n",
       "      <td>Algeria</td>\n",
       "      <td>Air Algerie</td>\n",
       "      <td>1974</td>\n",
       "      <td>PW</td>\n",
       "      <td>727</td>\n",
       "      <td>Jan</td>\n",
       "      <td>1974</td>\n",
       "      <td>Africa</td>\n",
       "      <td>1</td>\n",
       "      <td>1</td>\n",
       "      <td>NaN</td>\n",
       "    </tr>\n",
       "  </tbody>\n",
       "</table>\n",
       "</div>"
      ],
      "text/plain": [
       "       Country           Customer Name Delivery Year  Engine Model Series  \\\n",
       "0  Afghanistan  Ariana Afghan Airlines           1968     PW          727   \n",
       "1  Afghanistan  Ariana Afghan Airlines           1970     PW          727   \n",
       "2  Afghanistan  Ariana Afghan Airlines           1979     GE        DC-10   \n",
       "3  Afghanistan  Ariana Afghan Airlines            NaN     CF      737-700   \n",
       "4      Algeria             Air Algerie           1974     PW          727   \n",
       "\n",
       "  Order Month Order Year        Region Delivery Total Order Total  \\\n",
       "0         Mar       1968  Central Asia              1           1   \n",
       "1         Apr       1969  Central Asia              1           1   \n",
       "2         Sep       1978  Central Asia              1           1   \n",
       "3         Nov       2005  Central Asia              0           4   \n",
       "4         Jan       1974        Africa              1           1   \n",
       "\n",
       "  Unfilled Orders  \n",
       "0             NaN  \n",
       "1             NaN  \n",
       "2             NaN  \n",
       "3             NaN  \n",
       "4             NaN  "
      ]
     },
     "execution_count": 38,
     "metadata": {},
     "output_type": "execute_result"
    }
   ],
   "source": [
    "# data loading\n",
    "original_df = pd.read_csv('C:\\Mahes\\Hacktiv8\\Assignment\\phase_0\\Milestone1\\p0---ftds001---hck---m1-Maheswara-S\\OrdersandDeliveries.csv')\n",
    "original_df.head(5)"
   ]
  },
  {
   "cell_type": "markdown",
   "metadata": {},
   "source": [
    "Based on the problem statement, almost of the column will be used for data exploration with exception of Unfilled Orders, and order month column."
   ]
  },
  {
   "cell_type": "code",
   "execution_count": 39,
   "metadata": {},
   "outputs": [
    {
     "data": {
      "text/plain": [
       "Index(['country', 'customer_name', 'delivery_year_', 'engine', 'model_series',\n",
       "       'order_month', 'order_year', 'region', 'delivery_total', 'order_total',\n",
       "       'unfilled_orders'],\n",
       "      dtype='object')"
      ]
     },
     "execution_count": 39,
     "metadata": {},
     "output_type": "execute_result"
    }
   ],
   "source": [
    "# new dataframe incase the original is needed\n",
    "df = original_df.copy()\n",
    "df.columns = [col.lower().replace(' ', '_') for col in df.columns]\n",
    "df.columns"
   ]
  },
  {
   "cell_type": "markdown",
   "metadata": {},
   "source": [
    "## Data Loading and Cleaning"
   ]
  },
  {
   "cell_type": "code",
   "execution_count": 40,
   "metadata": {},
   "outputs": [
    {
     "name": "stdout",
     "output_type": "stream",
     "text": [
      "<class 'pandas.core.frame.DataFrame'>\n",
      "RangeIndex: 9073 entries, 0 to 9072\n",
      "Data columns (total 9 columns):\n",
      " #   Column          Non-Null Count  Dtype \n",
      "---  ------          --------------  ----- \n",
      " 0   country         9073 non-null   object\n",
      " 1   customer_name   9073 non-null   object\n",
      " 2   delivery_year   8048 non-null   object\n",
      " 3   engine          9073 non-null   object\n",
      " 4   model_series    9073 non-null   object\n",
      " 5   order_year      9073 non-null   object\n",
      " 6   region          9047 non-null   object\n",
      " 7   delivery_total  9073 non-null   object\n",
      " 8   order_total     9073 non-null   object\n",
      "dtypes: object(9)\n",
      "memory usage: 638.1+ KB\n"
     ]
    }
   ],
   "source": [
    "# rename deliery_year_ to delivery_year to avoid confusion\n",
    "df.rename(columns={'delivery_year_':'delivery_year'}, inplace=True)   \n",
    "\n",
    "# dropping unescessary column\n",
    "df = df.drop('unfilled_orders', axis=1)\n",
    "df = df.drop('order_month', axis=1)\n",
    "df.info()"
   ]
  },
  {
   "cell_type": "code",
   "execution_count": 41,
   "metadata": {},
   "outputs": [
    {
     "data": {
      "text/plain": [
       "country              0\n",
       "customer_name        0\n",
       "delivery_year     1025\n",
       "engine               0\n",
       "model_series         0\n",
       "order_year           0\n",
       "region              26\n",
       "delivery_total       0\n",
       "order_total          0\n",
       "dtype: int64"
      ]
     },
     "execution_count": 41,
     "metadata": {},
     "output_type": "execute_result"
    }
   ],
   "source": [
    "# null checking\n",
    "df.isnull().sum()"
   ]
  },
  {
   "cell_type": "markdown",
   "metadata": {},
   "source": [
    "There are many null value in delivery year, dropna on delivery year could potentially bias the analysis. Thus we are going to change the null values in both delivery_year and region into a placeholder values."
   ]
  },
  {
   "cell_type": "code",
   "execution_count": 42,
   "metadata": {},
   "outputs": [
    {
     "data": {
      "text/plain": [
       "array(['Central Asia', 'Africa', 'South America', 'Oceania', 'Europe',\n",
       "       'Caribbean', 'Middle East', 'South Asia', 'Southeast Asia',\n",
       "       'North America', 'East Asia', 'Central America and Mexico', nan,\n",
       "       'Unidentified', 'All'], dtype=object)"
      ]
     },
     "execution_count": 42,
     "metadata": {},
     "output_type": "execute_result"
    }
   ],
   "source": [
    "# check values\n",
    "df['region'].unique()"
   ]
  },
  {
   "cell_type": "markdown",
   "metadata": {},
   "source": [
    "Upon further exploration, there seems to be an Unidentified region, we will use this Undientified value for the Nan values in region "
   ]
  },
  {
   "cell_type": "code",
   "execution_count": 43,
   "metadata": {},
   "outputs": [
    {
     "data": {
      "text/plain": [
       "array(['1968', '1970', '1979', nan, '1974', '1975', '2015', '2016',\n",
       "       '1971', '1976', '1977', '1990', '1972', '2000', '2001', '2002',\n",
       "       '1973', '1983', '1980', '1981', '1982', '2005', '2010', '2011',\n",
       "       '2018', '2008', '2007', '1985', '2014', '2006', '1978', '1992',\n",
       "       '1993', '2009', '1966', '1967', '2017', '1964', '1969', '1984',\n",
       "       '1965', '1986', '1987', '1988', '1989', '1991', '1994', '2003',\n",
       "       '2019', '1961', '2013', '1996', '1997', '1959', '1998', '1999',\n",
       "       '2004', '2012', '1960', '1962', '1963', '2021', '2022', '1995',\n",
       "       '2020', '1958', 'All'], dtype=object)"
      ]
     },
     "execution_count": 43,
     "metadata": {},
     "output_type": "execute_result"
    }
   ],
   "source": [
    "# check values\n",
    "df['delivery_year'].unique()"
   ]
  },
  {
   "cell_type": "markdown",
   "metadata": {},
   "source": [
    "For NaN in delivery years will be changed to Undelivered, we won't be analyzing the undelivered order in this notebook, but just in case it is needed later. There seems to be 'All' rows. At this point we don't know what this row represent, but might be a total of all values. Thus we'll remove it into a new dataframe for now."
   ]
  },
  {
   "cell_type": "code",
   "execution_count": 44,
   "metadata": {},
   "outputs": [
    {
     "data": {
      "text/plain": [
       "0"
      ]
     },
     "execution_count": 44,
     "metadata": {},
     "output_type": "execute_result"
    }
   ],
   "source": [
    "# fill nan in region into Unindentified\n",
    "df['region'] = df['region'].fillna(\"Unidentified\")\n",
    "# fill nan in delivery_year into Undelivered\n",
    "df = df.fillna(\"Undelivered\")\n",
    "df.isnull().any().sum()"
   ]
  },
  {
   "cell_type": "code",
   "execution_count": 45,
   "metadata": {},
   "outputs": [
    {
     "data": {
      "text/html": [
       "<div>\n",
       "<style scoped>\n",
       "    .dataframe tbody tr th:only-of-type {\n",
       "        vertical-align: middle;\n",
       "    }\n",
       "\n",
       "    .dataframe tbody tr th {\n",
       "        vertical-align: top;\n",
       "    }\n",
       "\n",
       "    .dataframe thead th {\n",
       "        text-align: right;\n",
       "    }\n",
       "</style>\n",
       "<table border=\"1\" class=\"dataframe\">\n",
       "  <thead>\n",
       "    <tr style=\"text-align: right;\">\n",
       "      <th></th>\n",
       "      <th>country</th>\n",
       "      <th>customer_name</th>\n",
       "      <th>delivery_year</th>\n",
       "      <th>engine</th>\n",
       "      <th>model_series</th>\n",
       "      <th>order_year</th>\n",
       "      <th>region</th>\n",
       "      <th>delivery_total</th>\n",
       "      <th>order_total</th>\n",
       "    </tr>\n",
       "  </thead>\n",
       "  <tbody>\n",
       "    <tr>\n",
       "      <th>9072</th>\n",
       "      <td>All</td>\n",
       "      <td>All</td>\n",
       "      <td>All</td>\n",
       "      <td>All</td>\n",
       "      <td>All</td>\n",
       "      <td>All</td>\n",
       "      <td>All</td>\n",
       "      <td>24,025</td>\n",
       "      <td>33,587</td>\n",
       "    </tr>\n",
       "  </tbody>\n",
       "</table>\n",
       "</div>"
      ],
      "text/plain": [
       "     country customer_name delivery_year engine model_series order_year  \\\n",
       "9072     All           All           All    All          All        All   \n",
       "\n",
       "     region delivery_total order_total  \n",
       "9072    All         24,025      33,587  "
      ]
     },
     "execution_count": 45,
     "metadata": {},
     "output_type": "execute_result"
    }
   ],
   "source": [
    "# new dataframe for all values\n",
    "all = df.query('delivery_year == \"All\"')\n",
    "all"
   ]
  },
  {
   "cell_type": "code",
   "execution_count": 46,
   "metadata": {},
   "outputs": [],
   "source": [
    "# remove all values from main dataframe\n",
    "df = df.query('delivery_year != \"All\"')"
   ]
  },
  {
   "cell_type": "code",
   "execution_count": 47,
   "metadata": {},
   "outputs": [
    {
     "name": "stdout",
     "output_type": "stream",
     "text": [
      "<class 'pandas.core.frame.DataFrame'>\n",
      "Int64Index: 9072 entries, 0 to 9071\n",
      "Data columns (total 9 columns):\n",
      " #   Column          Non-Null Count  Dtype \n",
      "---  ------          --------------  ----- \n",
      " 0   country         9072 non-null   object\n",
      " 1   customer_name   9072 non-null   object\n",
      " 2   delivery_year   9072 non-null   object\n",
      " 3   engine          9072 non-null   object\n",
      " 4   model_series    9072 non-null   object\n",
      " 5   order_year      9072 non-null   object\n",
      " 6   region          9072 non-null   object\n",
      " 7   delivery_total  9072 non-null   object\n",
      " 8   order_total     9072 non-null   object\n",
      "dtypes: object(9)\n",
      "memory usage: 708.8+ KB\n"
     ]
    }
   ],
   "source": [
    "df.info()"
   ]
  },
  {
   "cell_type": "markdown",
   "metadata": {},
   "source": [
    "Based on the overview, some of the column that should be numeric is found to be an object type. Thus we'll change delivery_total and order_total to integer and delivery year to datetime. But since there are strings \"Undelivered\" in delivery year the column can't be converted into datetime, thus we are going to query the unknown values into seperate dataframe."
   ]
  },
  {
   "cell_type": "code",
   "execution_count": 48,
   "metadata": {},
   "outputs": [
    {
     "data": {
      "text/html": [
       "<div>\n",
       "<style scoped>\n",
       "    .dataframe tbody tr th:only-of-type {\n",
       "        vertical-align: middle;\n",
       "    }\n",
       "\n",
       "    .dataframe tbody tr th {\n",
       "        vertical-align: top;\n",
       "    }\n",
       "\n",
       "    .dataframe thead th {\n",
       "        text-align: right;\n",
       "    }\n",
       "</style>\n",
       "<table border=\"1\" class=\"dataframe\">\n",
       "  <thead>\n",
       "    <tr style=\"text-align: right;\">\n",
       "      <th></th>\n",
       "      <th>country</th>\n",
       "      <th>customer_name</th>\n",
       "      <th>delivery_year</th>\n",
       "      <th>engine</th>\n",
       "      <th>model_series</th>\n",
       "      <th>order_year</th>\n",
       "      <th>region</th>\n",
       "      <th>delivery_total</th>\n",
       "      <th>order_total</th>\n",
       "    </tr>\n",
       "  </thead>\n",
       "  <tbody>\n",
       "    <tr>\n",
       "      <th>3</th>\n",
       "      <td>Afghanistan</td>\n",
       "      <td>Ariana Afghan Airlines</td>\n",
       "      <td>Undelivered</td>\n",
       "      <td>CF</td>\n",
       "      <td>737-700</td>\n",
       "      <td>2005</td>\n",
       "      <td>Central Asia</td>\n",
       "      <td>0</td>\n",
       "      <td>4</td>\n",
       "    </tr>\n",
       "    <tr>\n",
       "      <th>71</th>\n",
       "      <td>Argentina</td>\n",
       "      <td>Aerolineas Argentinas</td>\n",
       "      <td>Undelivered</td>\n",
       "      <td>CF</td>\n",
       "      <td>737 MAX</td>\n",
       "      <td>2016</td>\n",
       "      <td>South America</td>\n",
       "      <td>0</td>\n",
       "      <td>9</td>\n",
       "    </tr>\n",
       "    <tr>\n",
       "      <th>75</th>\n",
       "      <td>Argentina</td>\n",
       "      <td>Aerolineas Argentinas</td>\n",
       "      <td>Undelivered</td>\n",
       "      <td>CF</td>\n",
       "      <td>737-800</td>\n",
       "      <td>2013</td>\n",
       "      <td>South America</td>\n",
       "      <td>0</td>\n",
       "      <td>14</td>\n",
       "    </tr>\n",
       "    <tr>\n",
       "      <th>79</th>\n",
       "      <td>Argentina</td>\n",
       "      <td>AUSTRAL - Cielos del Sur</td>\n",
       "      <td>Undelivered</td>\n",
       "      <td>NS</td>\n",
       "      <td>MD-80</td>\n",
       "      <td>1990</td>\n",
       "      <td>South America</td>\n",
       "      <td>0</td>\n",
       "      <td>1</td>\n",
       "    </tr>\n",
       "    <tr>\n",
       "      <th>80</th>\n",
       "      <td>Argentina</td>\n",
       "      <td>AUSTRAL - Cielos del Sur</td>\n",
       "      <td>Undelivered</td>\n",
       "      <td>NS</td>\n",
       "      <td>MD-80</td>\n",
       "      <td>1988</td>\n",
       "      <td>South America</td>\n",
       "      <td>0</td>\n",
       "      <td>3</td>\n",
       "    </tr>\n",
       "    <tr>\n",
       "      <th>...</th>\n",
       "      <td>...</td>\n",
       "      <td>...</td>\n",
       "      <td>...</td>\n",
       "      <td>...</td>\n",
       "      <td>...</td>\n",
       "      <td>...</td>\n",
       "      <td>...</td>\n",
       "      <td>...</td>\n",
       "      <td>...</td>\n",
       "    </tr>\n",
       "    <tr>\n",
       "      <th>9052</th>\n",
       "      <td>Vietnam</td>\n",
       "      <td>VietJet Air</td>\n",
       "      <td>Undelivered</td>\n",
       "      <td>CF</td>\n",
       "      <td>737 MAX</td>\n",
       "      <td>2018</td>\n",
       "      <td>Southeast Asia</td>\n",
       "      <td>0</td>\n",
       "      <td>100</td>\n",
       "    </tr>\n",
       "    <tr>\n",
       "      <th>9061</th>\n",
       "      <td>Yemen</td>\n",
       "      <td>Yemenia</td>\n",
       "      <td>Undelivered</td>\n",
       "      <td>NS</td>\n",
       "      <td>737-200</td>\n",
       "      <td>1977</td>\n",
       "      <td>Middle East</td>\n",
       "      <td>0</td>\n",
       "      <td>1</td>\n",
       "    </tr>\n",
       "    <tr>\n",
       "      <th>9062</th>\n",
       "      <td>Yemen</td>\n",
       "      <td>Yemenia</td>\n",
       "      <td>Undelivered</td>\n",
       "      <td>PW</td>\n",
       "      <td>727</td>\n",
       "      <td>1977</td>\n",
       "      <td>Middle East</td>\n",
       "      <td>0</td>\n",
       "      <td>1</td>\n",
       "    </tr>\n",
       "    <tr>\n",
       "      <th>9064</th>\n",
       "      <td>Zambia</td>\n",
       "      <td>Zambia Airways</td>\n",
       "      <td>Undelivered</td>\n",
       "      <td>NS</td>\n",
       "      <td>DC-10</td>\n",
       "      <td>1984</td>\n",
       "      <td>Africa</td>\n",
       "      <td>0</td>\n",
       "      <td>1</td>\n",
       "    </tr>\n",
       "    <tr>\n",
       "      <th>9065</th>\n",
       "      <td>Zambia</td>\n",
       "      <td>Zambia Airways</td>\n",
       "      <td>Undelivered</td>\n",
       "      <td>NS</td>\n",
       "      <td>MD-11</td>\n",
       "      <td>1990</td>\n",
       "      <td>Africa</td>\n",
       "      <td>0</td>\n",
       "      <td>1</td>\n",
       "    </tr>\n",
       "  </tbody>\n",
       "</table>\n",
       "<p>1025 rows × 9 columns</p>\n",
       "</div>"
      ],
      "text/plain": [
       "          country             customer_name delivery_year engine model_series  \\\n",
       "3     Afghanistan    Ariana Afghan Airlines   Undelivered     CF      737-700   \n",
       "71      Argentina     Aerolineas Argentinas   Undelivered     CF      737 MAX   \n",
       "75      Argentina     Aerolineas Argentinas   Undelivered     CF      737-800   \n",
       "79      Argentina  AUSTRAL - Cielos del Sur   Undelivered     NS        MD-80   \n",
       "80      Argentina  AUSTRAL - Cielos del Sur   Undelivered     NS        MD-80   \n",
       "...           ...                       ...           ...    ...          ...   \n",
       "9052      Vietnam               VietJet Air   Undelivered     CF      737 MAX   \n",
       "9061        Yemen                   Yemenia   Undelivered     NS      737-200   \n",
       "9062        Yemen                   Yemenia   Undelivered     PW          727   \n",
       "9064       Zambia            Zambia Airways   Undelivered     NS        DC-10   \n",
       "9065       Zambia            Zambia Airways   Undelivered     NS        MD-11   \n",
       "\n",
       "     order_year          region delivery_total order_total  \n",
       "3          2005    Central Asia              0           4  \n",
       "71         2016   South America              0           9  \n",
       "75         2013   South America              0          14  \n",
       "79         1990   South America              0           1  \n",
       "80         1988   South America              0           3  \n",
       "...         ...             ...            ...         ...  \n",
       "9052       2018  Southeast Asia              0         100  \n",
       "9061       1977     Middle East              0           1  \n",
       "9062       1977     Middle East              0           1  \n",
       "9064       1984          Africa              0           1  \n",
       "9065       1990          Africa              0           1  \n",
       "\n",
       "[1025 rows x 9 columns]"
      ]
     },
     "execution_count": 48,
     "metadata": {},
     "output_type": "execute_result"
    }
   ],
   "source": [
    "# new df for unknown\n",
    "unknown = df.query('delivery_year == \"Undelivered\"')\n",
    "# new dataframe for delivered order only\n",
    "df_delivered = df.query('delivery_year != \"Undelivered\"').copy()\n",
    "# filter df from unwanted labels\n",
    "df = df.query('customer_name != \"Unidentified Customer(s)\"')\n",
    "unknown"
   ]
  },
  {
   "cell_type": "code",
   "execution_count": 49,
   "metadata": {},
   "outputs": [
    {
     "name": "stdout",
     "output_type": "stream",
     "text": [
      "<class 'pandas.core.frame.DataFrame'>\n",
      "Int64Index: 8047 entries, 0 to 9071\n",
      "Data columns (total 9 columns):\n",
      " #   Column          Non-Null Count  Dtype         \n",
      "---  ------          --------------  -----         \n",
      " 0   country         8047 non-null   object        \n",
      " 1   customer_name   8047 non-null   object        \n",
      " 2   delivery_year   8047 non-null   datetime64[ns]\n",
      " 3   engine          8047 non-null   object        \n",
      " 4   model_series    8047 non-null   object        \n",
      " 5   order_year      8047 non-null   datetime64[ns]\n",
      " 6   region          8047 non-null   object        \n",
      " 7   delivery_total  8047 non-null   int32         \n",
      " 8   order_total     8047 non-null   int32         \n",
      "dtypes: datetime64[ns](2), int32(2), object(5)\n",
      "memory usage: 565.8+ KB\n"
     ]
    }
   ],
   "source": [
    "# converting to int and datetime for delivered only dataframe\n",
    "df_delivered['delivery_total'] = df_delivered['delivery_total'].astype(int)\n",
    "df_delivered['order_total'] = df_delivered['order_total'].astype(int)\n",
    "df_delivered['delivery_year'] = pd.to_datetime(df_delivered['delivery_year'], format='%Y')\n",
    "df_delivered['order_year'] = pd.to_datetime(df_delivered['order_year'], format='%Y')\n",
    "df_delivered.info()\n"
   ]
  },
  {
   "cell_type": "code",
   "execution_count": 50,
   "metadata": {},
   "outputs": [
    {
     "name": "stdout",
     "output_type": "stream",
     "text": [
      "<class 'pandas.core.frame.DataFrame'>\n",
      "Int64Index: 8941 entries, 0 to 9071\n",
      "Data columns (total 9 columns):\n",
      " #   Column          Non-Null Count  Dtype         \n",
      "---  ------          --------------  -----         \n",
      " 0   country         8941 non-null   object        \n",
      " 1   customer_name   8941 non-null   object        \n",
      " 2   delivery_year   8941 non-null   object        \n",
      " 3   engine          8941 non-null   object        \n",
      " 4   model_series    8941 non-null   object        \n",
      " 5   order_year      8941 non-null   datetime64[ns]\n",
      " 6   region          8941 non-null   object        \n",
      " 7   delivery_total  8941 non-null   int32         \n",
      " 8   order_total     8941 non-null   int32         \n",
      "dtypes: datetime64[ns](1), int32(2), object(6)\n",
      "memory usage: 628.7+ KB\n"
     ]
    }
   ],
   "source": [
    "# converting to int and datetime for main dataframe\n",
    "df['delivery_total'] = df['delivery_total'].astype(int)\n",
    "df['order_total'] = df['order_total'].astype(int)\n",
    "df['order_year'] = pd.to_datetime(df['order_year'], format='%Y')\n",
    "df.info()"
   ]
  },
  {
   "cell_type": "code",
   "execution_count": 51,
   "metadata": {},
   "outputs": [],
   "source": [
    "df.to_excel(\"BoeingOrderDelivery.xlsx\")"
   ]
  },
  {
   "cell_type": "markdown",
   "metadata": {},
   "source": [
    "## Data Exploration & Visualization"
   ]
  },
  {
   "cell_type": "markdown",
   "metadata": {},
   "source": [
    "**Order vs Delivery**"
   ]
  },
  {
   "cell_type": "code",
   "execution_count": 52,
   "metadata": {},
   "outputs": [
    {
     "data": {
      "text/plain": [
       "order_year\n",
       "1955-01-01    143\n",
       "1956-01-01     93\n",
       "1957-01-01     35\n",
       "1958-01-01     41\n",
       "1959-01-01     35\n",
       "             ... \n",
       "2018-01-01    978\n",
       "2019-01-01    202\n",
       "2020-01-01    169\n",
       "2021-01-01    823\n",
       "2022-01-01    148\n",
       "Name: order_total, Length: 68, dtype: int32"
      ]
     },
     "execution_count": 52,
     "metadata": {},
     "output_type": "execute_result"
    }
   ],
   "source": [
    "# group by order year, sum total order\n",
    "ord_year = df.groupby('order_year')['order_total'].sum()\n",
    "ord_year"
   ]
  },
  {
   "cell_type": "code",
   "execution_count": 53,
   "metadata": {},
   "outputs": [
    {
     "data": {
      "text/plain": [
       "delivery_year\n",
       "1958             8\n",
       "1959            98\n",
       "1960           182\n",
       "1961           122\n",
       "1962            90\n",
       "              ... \n",
       "2019           380\n",
       "2020           157\n",
       "2021           339\n",
       "2022           125\n",
       "Undelivered      0\n",
       "Name: delivery_total, Length: 66, dtype: int32"
      ]
     },
     "execution_count": 53,
     "metadata": {},
     "output_type": "execute_result"
    }
   ],
   "source": [
    "# group by delivery year, sum total delivery\n",
    "del_year = df.groupby('delivery_year')['delivery_total'].sum()\n",
    "del_year"
   ]
  },
  {
   "cell_type": "code",
   "execution_count": 54,
   "metadata": {},
   "outputs": [
    {
     "data": {
      "text/plain": [
       "<AxesSubplot:xlabel='delivery_year'>"
      ]
     },
     "execution_count": 54,
     "metadata": {},
     "output_type": "execute_result"
    },
    {
     "data": {
      "image/png": "[encoded data removed]",
      "text/plain": [
       "<Figure size 1440x720 with 2 Axes>"
      ]
     },
     "metadata": {
      "needs_background": "light"
     },
     "output_type": "display_data"
    }
   ],
   "source": [
    "# plot both order and delivery for visual comparation\n",
    "fig, axes = plt.subplots(nrows=2, ncols=1, figsize=(20,10),sharey=True)\n",
    "\n",
    "ord_year.plot(ax=axes[0])\n",
    "del_year.plot(ax=axes[1])"
   ]
  },
  {
   "cell_type": "markdown",
   "metadata": {},
   "source": [
    "Based on the plot above, peak order is around 2014 while peak delivery is around 2018, this is natural as aircraft took a long time to manufacture, test, and deliver. \n",
    "\n",
    "The peak and bottom on these graph likely indicates the release of new aircraft model/type.\n",
    "\n",
    "We can also see that both graph have a decline in recent years. Could be because of several factor such as Covid 19 and perhaps the recent incident regarding Boeing newer model."
   ]
  },
  {
   "cell_type": "code",
   "execution_count": 55,
   "metadata": {},
   "outputs": [
    {
     "name": "stdout",
     "output_type": "stream",
     "text": [
      "Total Order Central Tendencies and Exteme Values\n",
      "Min : 0\n",
      "Max : 200\n",
      "Mean : 3.618051672072475\n",
      "Median : 2.0\n",
      "Std : 6.865312140735035\n",
      "--------------------------------------------------\n",
      "Total Delivery Central Tendencies and Exteme Values\n",
      "Min : 0\n",
      "Max : 50\n",
      "Mean : 2.680684487193826\n",
      "Median : 2.0\n",
      "Std : 3.289896304896757\n"
     ]
    }
   ],
   "source": [
    "# central tendencies for total order\n",
    "print(\"Total Order Central Tendencies and Exteme Values\")\n",
    "print(\"Min :\", df['order_total'].min())\n",
    "print(\"Max :\", df['order_total'].max())\n",
    "print(\"Mean :\", df['order_total'].mean())\n",
    "print(\"Median :\", df['order_total'].median())\n",
    "print(\"Std :\", df['order_total'].std())\n",
    "\n",
    "print('-'*50)\n",
    "\n",
    "# central tendencies for total delivery\n",
    "print(\"Total Delivery Central Tendencies and Exteme Values\")\n",
    "print(\"Min :\", df['delivery_total'].min())\n",
    "print(\"Max :\", df['delivery_total'].max())\n",
    "print(\"Mean :\", df['delivery_total'].mean())\n",
    "print(\"Median :\", df['delivery_total'].median())\n",
    "print(\"Std :\", df['delivery_total'].std())"
   ]
  },
  {
   "cell_type": "markdown",
   "metadata": {},
   "source": [
    "From central tendencies above, we can see that the average order is higher than the average delivery while having the same median. This means that there are still a lot of order that have not been delivered, if all the order has been delivered, then the mean should be equal. We are going to prove this later in hypothesis testing.\n",
    "\n",
    "Max order is 200 while max delivery is 50, this gap would indicate that there is more demand than the supply. If the supply is capable of filling the demand on time, then there should be a year where the delivery is 200 or near 200. But this is understandable since again, aircraft took a long time to manufacture."
   ]
  },
  {
   "cell_type": "markdown",
   "metadata": {},
   "source": [
    "**Hypothesis**\n",
    "\n",
    "H0 = There is no significant difference between the average order and average delivery of all time\n",
    "\n",
    "H1 = There is significant difference between the average order and average delivery of all time"
   ]
  },
  {
   "cell_type": "code",
   "execution_count": 56,
   "metadata": {},
   "outputs": [
    {
     "name": "stderr",
     "output_type": "stream",
     "text": [
      "c:\\Users\\mahes\\anaconda3\\lib\\site-packages\\seaborn\\distributions.py:2619: FutureWarning: `distplot` is a deprecated function and will be removed in a future version. Please adapt your code to use either `displot` (a figure-level function with similar flexibility) or `histplot` (an axes-level function for histograms).\n",
      "  warnings.warn(msg, FutureWarning)\n",
      "c:\\Users\\mahes\\anaconda3\\lib\\site-packages\\seaborn\\distributions.py:2619: FutureWarning: `distplot` is a deprecated function and will be removed in a future version. Please adapt your code to use either `displot` (a figure-level function with similar flexibility) or `histplot` (an axes-level function for histograms).\n",
      "  warnings.warn(msg, FutureWarning)\n"
     ]
    },
    {
     "data": {
      "image/png": "[encoded data removed]",
      "text/plain": [
       "<Figure size 1152x360 with 1 Axes>"
      ]
     },
     "metadata": {
      "needs_background": "light"
     },
     "output_type": "display_data"
    }
   ],
   "source": [
    "t_stat,p_val = stats.ttest_ind(del_year, ord_year)\n",
    "\n",
    "# Confidence Internal\n",
    "del_pop = np.random.normal(del_year.mean(), del_year.std(), 10000)\n",
    "ord_pop = np.random.normal(ord_year.mean(), ord_year.std(), 10000)\n",
    "\n",
    "# confidence interval with critical value 0.05\n",
    "ci = stats.norm.interval(0.95, del_year.mean(), del_year.std())\n",
    "\n",
    "plt.figure(figsize=(16,5))\n",
    "sns.distplot(del_pop, label='Total Delivery', color='blue')\n",
    "sns.distplot(ord_pop, label='Total Order', color='red')\n",
    "plt.axvline(del_year.mean(), color='blue', linewidth=2, label='Total Delivery (Mean)')\n",
    "plt.axvline(ord_year.mean(), color='red', linewidth=2, label='Total Order (Mean)')\n",
    "\n",
    "# confidence interval\n",
    "plt.axvline(ci[1], color='green', linestyle='dashed', linewidth=2, label='confidence threshold of 95%')\n",
    "plt.axvline(ci[0], color='green', linestyle='dashed', linewidth=2, label='confidence threshold of 95%')\n",
    "\n",
    "# p_value/alternate-hypothesis\n",
    "plt.axvline(del_pop.mean() + t_stat*del_pop.std(), color='black', linestyle='dashed', linewidth=2, label = 'Alternative Hypothesis/p-value')\n",
    "plt.axvline(del_pop.mean() - t_stat*del_pop.std(), color='black', linestyle='dashed', linewidth=2)\n",
    "plt.legend()\n",
    "\n",
    "# save fig\n",
    "plt.savefig(\"Hypothesis1\")"
   ]
  },
  {
   "cell_type": "markdown",
   "metadata": {},
   "source": [
    "Reject H0.\n",
    "\n",
    "The average of Total Order is significantly higher than the average of Total Delivery. Thus, Boeing still have a lot of order to Deliver."
   ]
  },
  {
   "cell_type": "markdown",
   "metadata": {},
   "source": [
    "**Aircaft Model Series**"
   ]
  },
  {
   "cell_type": "code",
   "execution_count": 57,
   "metadata": {},
   "outputs": [
    {
     "data": {
      "text/plain": [
       "model_series\n",
       "737 MAX       5396\n",
       "737-800       5365\n",
       "727           1900\n",
       "MD-80         1384\n",
       "737-700       1374\n",
       "737-300       1339\n",
       "737-200       1160\n",
       "757-200       1071\n",
       "707/720       1016\n",
       "DC-9          1001\n",
       "787-9          963\n",
       "777-300ER      852\n",
       "767-300ER      649\n",
       "787-8          622\n",
       "737-900ER      577\n",
       "DC-8           576\n",
       "747-400        543\n",
       "737-400        532\n",
       "737-500        514\n",
       "DC-10          487\n",
       "777-200ER      464\n",
       "747-200        408\n",
       "777X           365\n",
       "777F           289\n",
       "747-100        275\n",
       "767-300F       266\n",
       "MD-11          254\n",
       "767-200        207\n",
       "717-200        205\n",
       "MD-90          199\n",
       "787-10         196\n",
       "737-800A       191\n",
       "BBJ            139\n",
       "777-200        139\n",
       "747-8F         138\n",
       "747-400F       130\n",
       "767-200ER      120\n",
       "767-300        112\n",
       "767-2C         102\n",
       "757-200PF       82\n",
       "747-300         81\n",
       "737-600         69\n",
       "777-300         67\n",
       "747-400M        64\n",
       "757-300         63\n",
       "777-200LR       62\n",
       "767-400ER       58\n",
       "747-8           56\n",
       "737-900         52\n",
       "747-400ERF      40\n",
       "737-100         38\n",
       "BBJ2            26\n",
       "737-700C        22\n",
       "747-400D        20\n",
       "737-700W        14\n",
       "BBJ3             8\n",
       "747-400ER        6\n",
       "757-200M         1\n",
       "Name: order_total, dtype: int32"
      ]
     },
     "execution_count": 57,
     "metadata": {},
     "output_type": "execute_result"
    }
   ],
   "source": [
    "# group by aircraft model for total order sum\n",
    "model = df.groupby('model_series')['order_total'].sum()\n",
    "model = model.sort_values(ascending=False)\n",
    "model"
   ]
  },
  {
   "cell_type": "code",
   "execution_count": 58,
   "metadata": {},
   "outputs": [
    {
     "data": {
      "image/png": "[encoded data removed]",
      "text/plain": [
       "<Figure size 1080x720 with 1 Axes>"
      ]
     },
     "metadata": {
      "needs_background": "light"
     },
     "output_type": "display_data"
    }
   ],
   "source": [
    "model.plot(kind='bar', figsize=(15, 10))\n",
    "\n",
    "plt.xlabel('Model Series') \n",
    "plt.ylabel('Total')\n",
    "plt.title('Aircraft Order All Time')\n",
    "\n",
    "plt.show()"
   ]
  },
  {
   "cell_type": "markdown",
   "metadata": {},
   "source": [
    "Based on the bar plot above, Boeing 737 MAX is by far the most popular model of all time, followed by model 737-800 and 727.\n",
    "\n",
    "The amount of 737 MAX and 737-800 ordered is astounding, 737 MAX order is more than triple the amount of 727 which is the third most ordered aircraft."
   ]
  },
  {
   "cell_type": "code",
   "execution_count": 59,
   "metadata": {},
   "outputs": [
    {
     "data": {
      "text/html": [
       "<div>\n",
       "<style scoped>\n",
       "    .dataframe tbody tr th:only-of-type {\n",
       "        vertical-align: middle;\n",
       "    }\n",
       "\n",
       "    .dataframe tbody tr th {\n",
       "        vertical-align: top;\n",
       "    }\n",
       "\n",
       "    .dataframe thead th {\n",
       "        text-align: right;\n",
       "    }\n",
       "</style>\n",
       "<table border=\"1\" class=\"dataframe\">\n",
       "  <thead>\n",
       "    <tr style=\"text-align: right;\">\n",
       "      <th></th>\n",
       "      <th>country</th>\n",
       "      <th>customer_name</th>\n",
       "      <th>delivery_year</th>\n",
       "      <th>engine</th>\n",
       "      <th>model_series</th>\n",
       "      <th>order_year</th>\n",
       "      <th>region</th>\n",
       "      <th>delivery_total</th>\n",
       "      <th>order_total</th>\n",
       "    </tr>\n",
       "  </thead>\n",
       "  <tbody>\n",
       "    <tr>\n",
       "      <th>8</th>\n",
       "      <td>Algeria</td>\n",
       "      <td>Air Algerie</td>\n",
       "      <td>2015</td>\n",
       "      <td>CF</td>\n",
       "      <td>737-800</td>\n",
       "      <td>2014-01-01</td>\n",
       "      <td>Africa</td>\n",
       "      <td>2</td>\n",
       "      <td>2</td>\n",
       "    </tr>\n",
       "    <tr>\n",
       "      <th>9</th>\n",
       "      <td>Algeria</td>\n",
       "      <td>Air Algerie</td>\n",
       "      <td>2016</td>\n",
       "      <td>CF</td>\n",
       "      <td>737-800</td>\n",
       "      <td>2014-01-01</td>\n",
       "      <td>Africa</td>\n",
       "      <td>6</td>\n",
       "      <td>6</td>\n",
       "    </tr>\n",
       "    <tr>\n",
       "      <th>17</th>\n",
       "      <td>Algeria</td>\n",
       "      <td>Air Algerie</td>\n",
       "      <td>2016</td>\n",
       "      <td>CF</td>\n",
       "      <td>737-700C</td>\n",
       "      <td>2014-01-01</td>\n",
       "      <td>Africa</td>\n",
       "      <td>2</td>\n",
       "      <td>2</td>\n",
       "    </tr>\n",
       "    <tr>\n",
       "      <th>34</th>\n",
       "      <td>Algeria</td>\n",
       "      <td>Tassili Airlines</td>\n",
       "      <td>2018</td>\n",
       "      <td>CF</td>\n",
       "      <td>737-800</td>\n",
       "      <td>2017-01-01</td>\n",
       "      <td>Africa</td>\n",
       "      <td>3</td>\n",
       "      <td>3</td>\n",
       "    </tr>\n",
       "    <tr>\n",
       "      <th>40</th>\n",
       "      <td>Angola</td>\n",
       "      <td>TAAG Angola Airlines</td>\n",
       "      <td>2014</td>\n",
       "      <td>GE</td>\n",
       "      <td>777-300ER</td>\n",
       "      <td>2012-01-01</td>\n",
       "      <td>Africa</td>\n",
       "      <td>1</td>\n",
       "      <td>1</td>\n",
       "    </tr>\n",
       "    <tr>\n",
       "      <th>...</th>\n",
       "      <td>...</td>\n",
       "      <td>...</td>\n",
       "      <td>...</td>\n",
       "      <td>...</td>\n",
       "      <td>...</td>\n",
       "      <td>...</td>\n",
       "      <td>...</td>\n",
       "      <td>...</td>\n",
       "      <td>...</td>\n",
       "    </tr>\n",
       "    <tr>\n",
       "      <th>9029</th>\n",
       "      <td>Uzbekistan</td>\n",
       "      <td>Uzbekistan Airways</td>\n",
       "      <td>2019</td>\n",
       "      <td>GE</td>\n",
       "      <td>787-8</td>\n",
       "      <td>2016-01-01</td>\n",
       "      <td>Central Asia</td>\n",
       "      <td>2</td>\n",
       "      <td>2</td>\n",
       "    </tr>\n",
       "    <tr>\n",
       "      <th>9030</th>\n",
       "      <td>Uzbekistan</td>\n",
       "      <td>Uzbekistan Airways</td>\n",
       "      <td>2021</td>\n",
       "      <td>GE</td>\n",
       "      <td>787-8</td>\n",
       "      <td>2016-01-01</td>\n",
       "      <td>Central Asia</td>\n",
       "      <td>1</td>\n",
       "      <td>1</td>\n",
       "    </tr>\n",
       "    <tr>\n",
       "      <th>9050</th>\n",
       "      <td>Vietnam</td>\n",
       "      <td>Bamboo Airways</td>\n",
       "      <td>Undelivered</td>\n",
       "      <td>NS</td>\n",
       "      <td>787-9</td>\n",
       "      <td>2019-01-01</td>\n",
       "      <td>Southeast Asia</td>\n",
       "      <td>0</td>\n",
       "      <td>10</td>\n",
       "    </tr>\n",
       "    <tr>\n",
       "      <th>9051</th>\n",
       "      <td>Vietnam</td>\n",
       "      <td>VietJet Air</td>\n",
       "      <td>Undelivered</td>\n",
       "      <td>CF</td>\n",
       "      <td>737 MAX</td>\n",
       "      <td>2016-01-01</td>\n",
       "      <td>Southeast Asia</td>\n",
       "      <td>0</td>\n",
       "      <td>100</td>\n",
       "    </tr>\n",
       "    <tr>\n",
       "      <th>9052</th>\n",
       "      <td>Vietnam</td>\n",
       "      <td>VietJet Air</td>\n",
       "      <td>Undelivered</td>\n",
       "      <td>CF</td>\n",
       "      <td>737 MAX</td>\n",
       "      <td>2018-01-01</td>\n",
       "      <td>Southeast Asia</td>\n",
       "      <td>0</td>\n",
       "      <td>100</td>\n",
       "    </tr>\n",
       "  </tbody>\n",
       "</table>\n",
       "<p>1182 rows × 9 columns</p>\n",
       "</div>"
      ],
      "text/plain": [
       "         country         customer_name delivery_year engine model_series  \\\n",
       "8        Algeria           Air Algerie          2015     CF      737-800   \n",
       "9        Algeria           Air Algerie          2016     CF      737-800   \n",
       "17       Algeria           Air Algerie          2016     CF     737-700C   \n",
       "34       Algeria      Tassili Airlines          2018     CF      737-800   \n",
       "40        Angola  TAAG Angola Airlines          2014     GE    777-300ER   \n",
       "...          ...                   ...           ...    ...          ...   \n",
       "9029  Uzbekistan    Uzbekistan Airways          2019     GE        787-8   \n",
       "9030  Uzbekistan    Uzbekistan Airways          2021     GE        787-8   \n",
       "9050     Vietnam        Bamboo Airways   Undelivered     NS        787-9   \n",
       "9051     Vietnam           VietJet Air   Undelivered     CF      737 MAX   \n",
       "9052     Vietnam           VietJet Air   Undelivered     CF      737 MAX   \n",
       "\n",
       "     order_year          region  delivery_total  order_total  \n",
       "8    2014-01-01          Africa               2            2  \n",
       "9    2014-01-01          Africa               6            6  \n",
       "17   2014-01-01          Africa               2            2  \n",
       "34   2017-01-01          Africa               3            3  \n",
       "40   2012-01-01          Africa               1            1  \n",
       "...         ...             ...             ...          ...  \n",
       "9029 2016-01-01    Central Asia               2            2  \n",
       "9030 2016-01-01    Central Asia               1            1  \n",
       "9050 2019-01-01  Southeast Asia               0           10  \n",
       "9051 2016-01-01  Southeast Asia               0          100  \n",
       "9052 2018-01-01  Southeast Asia               0          100  \n",
       "\n",
       "[1182 rows x 9 columns]"
      ]
     },
     "execution_count": 59,
     "metadata": {},
     "output_type": "execute_result"
    }
   ],
   "source": [
    "# query for last 10 years\n",
    "recent_order = df[(df['order_year'] >= '2012') &\n",
    "                    (df['order_year'] <= '2022')]\n",
    "recent_order"
   ]
  },
  {
   "cell_type": "markdown",
   "metadata": {},
   "source": [
    "Now that we have a dataframe of the last 10 years, we can continue with the exploration"
   ]
  },
  {
   "cell_type": "code",
   "execution_count": 60,
   "metadata": {},
   "outputs": [
    {
     "data": {
      "text/plain": [
       "model_series\n",
       "737 MAX      5246\n",
       "737-800      1149\n",
       "787-9         540\n",
       "777X          359\n",
       "777-300ER     229\n",
       "737-900ER     193\n",
       "787-10        163\n",
       "737-800A      162\n",
       "767-300F      154\n",
       "777F          153\n",
       "767-2C         98\n",
       "787-8          93\n",
       "747-8F         56\n",
       "737-700        49\n",
       "747-8          18\n",
       "BBJ             9\n",
       "737-700C        7\n",
       "777-200LR       5\n",
       "767-300ER       4\n",
       "BBJ2            3\n",
       "BBJ3            1\n",
       "Name: order_total, dtype: int32"
      ]
     },
     "execution_count": 60,
     "metadata": {},
     "output_type": "execute_result"
    }
   ],
   "source": [
    "# group by aircraft model for total order sum last 10 years\n",
    "model_recent = recent_order.groupby('model_series')['order_total'].sum()\n",
    "model_recent = model_recent.sort_values(ascending=False)\n",
    "model_recent"
   ]
  },
  {
   "cell_type": "code",
   "execution_count": 61,
   "metadata": {},
   "outputs": [
    {
     "data": {
      "image/png": "[encoded data removed]",
      "text/plain": [
       "<Figure size 1080x720 with 1 Axes>"
      ]
     },
     "metadata": {
      "needs_background": "light"
     },
     "output_type": "display_data"
    }
   ],
   "source": [
    "model_recent.plot(kind='bar', figsize=(15, 10))\n",
    "\n",
    "plt.xlabel('Model Series') \n",
    "plt.ylabel('Total')\n",
    "plt.title('Aircraft Order Last 10 Years')\n",
    "\n",
    "plt.show()"
   ]
  },
  {
   "cell_type": "markdown",
   "metadata": {},
   "source": [
    "In the last 10 years, Model 737 MAX is still the highest ordered model, but now model 737-800 falls behind. It is understandable since 737-800 is an olde rmodel compared to 737 MAX. We can also see that the majority of 737 MAX order happens in the last 10 years as well. Perhaps if model 737 MAX does not have recent regrettable issues, the model could have much higher order than it already is."
   ]
  },
  {
   "cell_type": "markdown",
   "metadata": {},
   "source": [
    "Since out of all time 737-800 has close total order with 737 MAX, we should compare the central tendencies and extreme values of both model."
   ]
  },
  {
   "cell_type": "code",
   "execution_count": 62,
   "metadata": {},
   "outputs": [
    {
     "name": "stdout",
     "output_type": "stream",
     "text": [
      "All Time 737-800 Central Tendencies and Exteme Values\n",
      "Min : 0\n",
      "Max : 50\n",
      "Mean : 4.500838926174497\n",
      "Median : 3.0\n",
      "Std : 4.956062123553566\n",
      "--------------------------------------------------\n",
      "All Time 737 MAX Central Tendencies and Exteme Values\n",
      "Min : 1\n",
      "Max : 200\n",
      "Mean : 14.312997347480106\n",
      "Median : 5.0\n",
      "Std : 24.999524799366554\n"
     ]
    }
   ],
   "source": [
    "# query for 737-800 only\n",
    "model_7378 = df[df['model_series'] == '737-800']\n",
    "\n",
    "# query for 737 MAX only\n",
    "model_737M = df[df['model_series'] == '737 MAX']\n",
    "\n",
    "print(\"All Time 737-800 Central Tendencies and Exteme Values\")\n",
    "print(\"Min :\", model_7378['order_total'].min())\n",
    "print(\"Max :\", model_7378['order_total'].max())\n",
    "print(\"Mean :\", model_7378['order_total'].mean())\n",
    "print(\"Median :\", model_7378['order_total'].median())\n",
    "print(\"Std :\", model_7378['order_total'].std())\n",
    "\n",
    "print('-'*50)\n",
    "\n",
    "print(\"All Time 737 MAX Central Tendencies and Exteme Values\")\n",
    "print(\"Min :\", model_737M['order_total'].min())\n",
    "print(\"Max :\", model_737M['order_total'].max())\n",
    "print(\"Mean :\", model_737M['order_total'].mean())\n",
    "print(\"Median :\", model_737M['order_total'].median())\n",
    "print(\"Std :\", model_737M['order_total'].std())"
   ]
  },
  {
   "cell_type": "markdown",
   "metadata": {},
   "source": [
    "Based on the stats above, 737-800 only has at most 50 order in a year, while 737 MAX has up to 200 order in a year. The average order of 737 MAX is also 3 times higher than the average of 737-800, this means that the 737 MAX achieve those number in a much smaller timeframe than 737-800. We are going to test this in hypothesis testing"
   ]
  },
  {
   "cell_type": "markdown",
   "metadata": {},
   "source": [
    "**Hypothesis**\n",
    "\n",
    "H0 = There is no significant difference between model 737-800 average order and model 737 MAX average order\n",
    "\n",
    "H1 = There is significant difference between model 737-800 average order and model 737 MAX average order"
   ]
  },
  {
   "cell_type": "code",
   "execution_count": 63,
   "metadata": {},
   "outputs": [
    {
     "name": "stderr",
     "output_type": "stream",
     "text": [
      "c:\\Users\\mahes\\anaconda3\\lib\\site-packages\\seaborn\\distributions.py:2619: FutureWarning: `distplot` is a deprecated function and will be removed in a future version. Please adapt your code to use either `displot` (a figure-level function with similar flexibility) or `histplot` (an axes-level function for histograms).\n",
      "  warnings.warn(msg, FutureWarning)\n",
      "c:\\Users\\mahes\\anaconda3\\lib\\site-packages\\seaborn\\distributions.py:2619: FutureWarning: `distplot` is a deprecated function and will be removed in a future version. Please adapt your code to use either `displot` (a figure-level function with similar flexibility) or `histplot` (an axes-level function for histograms).\n",
      "  warnings.warn(msg, FutureWarning)\n"
     ]
    },
    {
     "data": {
      "image/png": "[encoded data removed]",
      "text/plain": [
       "<Figure size 1152x360 with 1 Axes>"
      ]
     },
     "metadata": {
      "needs_background": "light"
     },
     "output_type": "display_data"
    }
   ],
   "source": [
    "t_stat,p_val = stats.ttest_ind(model_737M['order_total'], model_7378['order_total'])\n",
    "\n",
    "# Confidence Internal\n",
    "model_737M_pop = np.random.normal(model_737M['order_total'].mean(), model_737M['order_total'].std(), 10000)\n",
    "model_7378_pop = np.random.normal(model_7378['order_total'].mean(), model_7378['order_total'].std(), 10000)\n",
    "\n",
    "# confidence interval with critical value 0.05\n",
    "ci = stats.norm.interval(0.95, model_737M['order_total'].mean(), model_737M['order_total'].std())\n",
    "\n",
    "plt.figure(figsize=(16,5))\n",
    "sns.distplot(model_737M_pop, label='737 MAX', color='blue')\n",
    "sns.distplot(model_7378_pop, label='737-800', color='red')\n",
    "plt.axvline(model_737M['order_total'].mean(), color='blue', linewidth=2, label='737 MAX (Mean)')\n",
    "plt.axvline(model_7378['order_total'].mean(), color='red', linewidth=2, label='737-800 (Mean)')\n",
    "\n",
    "# confidence interval\n",
    "plt.axvline(ci[1], color='green', linestyle='dashed', linewidth=2, label='confidence threshold of 95%')\n",
    "plt.axvline(ci[0], color='green', linestyle='dashed', linewidth=2, label='confidence threshold of 95%')\n",
    "\n",
    "# p_value/alternate-hypothesis\n",
    "plt.axvline(model_737M_pop.mean() + t_stat*model_737M_pop.std(), color='black', linestyle='dashed', linewidth=2, label = 'Alternative Hypothesis/p-value')\n",
    "plt.axvline(model_737M_pop.mean() - t_stat*model_737M_pop.std(), color='black', linestyle='dashed', linewidth=2)\n",
    "plt.legend()\n",
    "\n",
    "# save fig\n",
    "plt.savefig(\"Hypothesis2\")"
   ]
  },
  {
   "cell_type": "markdown",
   "metadata": {},
   "source": [
    "Reject H0 \n",
    " \n",
    "This proves that even thought both 737 MAX and 737-800 have similar total order, model 737 MAX have more order per year compared to model 737-800. Thus we could say that model 737 MAX is a success despite having a few obstacle."
   ]
  },
  {
   "cell_type": "markdown",
   "metadata": {},
   "source": [
    "**Engine brand use ratio**"
   ]
  },
  {
   "cell_type": "code",
   "execution_count": 64,
   "metadata": {},
   "outputs": [
    {
     "data": {
      "text/plain": [
       "engine\n",
       "CF    15432\n",
       "PW     8635\n",
       "GE     5143\n",
       "RR     1919\n",
       "NS     1083\n",
       "BR      137\n",
       "Name: order_total, dtype: int32"
      ]
     },
     "execution_count": 64,
     "metadata": {},
     "output_type": "execute_result"
    }
   ],
   "source": [
    "# group by engine for total order sum\n",
    "engine = df.groupby('engine')['order_total'].sum()\n",
    "engine = engine.sort_values(ascending=False)\n",
    "engine"
   ]
  },
  {
   "cell_type": "code",
   "execution_count": 65,
   "metadata": {},
   "outputs": [
    {
     "data": {
      "image/png": "[encoded data removed]",
      "text/plain": [
       "<Figure size 1080x432 with 1 Axes>"
      ]
     },
     "metadata": {},
     "output_type": "display_data"
    }
   ],
   "source": [
    "colors_list = ['tab:blue', 'tab:red', 'tab:green', 'tab:orange', 'tab:purple', 'tab:brown', 'tab:pink','tab:gray']\n",
    "\n",
    "engine.plot(kind='pie',\n",
    "                figsize=(15, 6),\n",
    "                autopct='%1.1f%%', \n",
    "                startangle=90,           \n",
    "                labels=None,         # turn off labels on pie chart\n",
    "                pctdistance=1.12,    # the ratio between the center of each pie slice and the start of the text generated by autopct \n",
    "                colors=colors_list,  # add custom colors\n",
    "                )\n",
    "\n",
    "# scale the title up by 12% to match pctdistance\n",
    "plt.title('Engine type usage', y=1.12) \n",
    "\n",
    "plt.axis('equal') \n",
    "\n",
    "# add legend\n",
    "plt.legend(labels=engine.index, loc='upper left') \n",
    "\n",
    "plt.show()"
   ]
  },
  {
   "cell_type": "markdown",
   "metadata": {},
   "source": [
    "Overall, CF (CFM International LEAP) is the most used engine brand, followed closly by PW (Pratt & Whitney). Meanwhile, BR (BMW Rolls & Royce) are used by less than 1%"
   ]
  },
  {
   "cell_type": "code",
   "execution_count": 66,
   "metadata": {},
   "outputs": [
    {
     "data": {
      "text/plain": [
       "engine\n",
       "CF    6819\n",
       "GE    1453\n",
       "RR     219\n",
       "PW     102\n",
       "NS      98\n",
       "Name: order_total, dtype: int32"
      ]
     },
     "execution_count": 66,
     "metadata": {},
     "output_type": "execute_result"
    }
   ],
   "source": [
    "# Group by engine type count\n",
    "engine_recent = recent_order.groupby('engine')['order_total'].sum()\n",
    "engine_recent = engine_recent.sort_values(ascending=False)\n",
    "engine_recent"
   ]
  },
  {
   "cell_type": "code",
   "execution_count": 67,
   "metadata": {},
   "outputs": [
    {
     "data": {
      "image/png": "[encoded data removed]",
      "text/plain": [
       "<Figure size 1080x432 with 1 Axes>"
      ]
     },
     "metadata": {},
     "output_type": "display_data"
    }
   ],
   "source": [
    "colors_list = ['tab:blue', 'tab:red', 'tab:green', 'tab:orange', 'tab:purple', 'tab:brown', 'tab:pink','tab:gray']\n",
    "\n",
    "engine_recent.plot(kind='pie',\n",
    "                figsize=(15, 6),\n",
    "                autopct='%1.1f%%', \n",
    "                startangle=90,          \n",
    "                labels=None,         # turn off labels on pie chart\n",
    "                pctdistance=1.12,    # the ratio between the center of each pie slice and the start of the text generated by autopct \n",
    "                colors=colors_list,  # add custom colors\n",
    "                )\n",
    "\n",
    "# scale the title up by 12% to match pctdistance\n",
    "plt.title('Engine type usage', y=1.12) \n",
    "\n",
    "plt.axis('equal') \n",
    "\n",
    "# add legend\n",
    "plt.legend(labels=engine_recent.index, loc='upper left') \n",
    "\n",
    "plt.show()"
   ]
  },
  {
   "cell_type": "markdown",
   "metadata": {},
   "source": [
    "In the last 10 years, Boeing does not use BR engine anymore. PW, RR, and NS engine is also barely used in Boeing aircraft for the last 10 years. The majority of engine used in the last 10 years is from CF at 78.5% total usage. CF engine is the most used in engine in both last 10 years and all time"
   ]
  },
  {
   "cell_type": "markdown",
   "metadata": {},
   "source": [
    "**Order by Customer**"
   ]
  },
  {
   "cell_type": "code",
   "execution_count": 68,
   "metadata": {},
   "outputs": [
    {
     "data": {
      "text/html": [
       "<div>\n",
       "<style scoped>\n",
       "    .dataframe tbody tr th:only-of-type {\n",
       "        vertical-align: middle;\n",
       "    }\n",
       "\n",
       "    .dataframe tbody tr th {\n",
       "        vertical-align: top;\n",
       "    }\n",
       "\n",
       "    .dataframe thead th {\n",
       "        text-align: right;\n",
       "    }\n",
       "</style>\n",
       "<table border=\"1\" class=\"dataframe\">\n",
       "  <thead>\n",
       "    <tr style=\"text-align: right;\">\n",
       "      <th></th>\n",
       "      <th>delivery_total</th>\n",
       "      <th>order_total</th>\n",
       "    </tr>\n",
       "    <tr>\n",
       "      <th>customer_name</th>\n",
       "      <th></th>\n",
       "      <th></th>\n",
       "    </tr>\n",
       "  </thead>\n",
       "  <tbody>\n",
       "    <tr>\n",
       "      <th>Japan Airlines</th>\n",
       "      <td>395</td>\n",
       "      <td>420</td>\n",
       "    </tr>\n",
       "    <tr>\n",
       "      <th>All Nippon Airways Co., Ltd.</th>\n",
       "      <td>385</td>\n",
       "      <td>421</td>\n",
       "    </tr>\n",
       "    <tr>\n",
       "      <th>Lion Air</th>\n",
       "      <td>200</td>\n",
       "      <td>458</td>\n",
       "    </tr>\n",
       "    <tr>\n",
       "      <th>NAS Aviation Services LLC</th>\n",
       "      <td>567</td>\n",
       "      <td>674</td>\n",
       "    </tr>\n",
       "    <tr>\n",
       "      <th>Ryanair</th>\n",
       "      <td>597</td>\n",
       "      <td>741</td>\n",
       "    </tr>\n",
       "    <tr>\n",
       "      <th>International Lease Finance Co</th>\n",
       "      <td>799</td>\n",
       "      <td>839</td>\n",
       "    </tr>\n",
       "    <tr>\n",
       "      <th>Delta Air Lines</th>\n",
       "      <td>950</td>\n",
       "      <td>1044</td>\n",
       "    </tr>\n",
       "    <tr>\n",
       "      <th>Southwest Airlines</th>\n",
       "      <td>841</td>\n",
       "      <td>1271</td>\n",
       "    </tr>\n",
       "    <tr>\n",
       "      <th>American Airlines</th>\n",
       "      <td>1299</td>\n",
       "      <td>1450</td>\n",
       "    </tr>\n",
       "    <tr>\n",
       "      <th>United Airlines</th>\n",
       "      <td>1657</td>\n",
       "      <td>2281</td>\n",
       "    </tr>\n",
       "  </tbody>\n",
       "</table>\n",
       "</div>"
      ],
      "text/plain": [
       "                                delivery_total  order_total\n",
       "customer_name                                              \n",
       "Japan Airlines                             395          420\n",
       "All Nippon Airways Co., Ltd.               385          421\n",
       "Lion Air                                   200          458\n",
       "NAS Aviation Services LLC                  567          674\n",
       "Ryanair                                    597          741\n",
       "International Lease Finance Co             799          839\n",
       "Delta Air Lines                            950         1044\n",
       "Southwest Airlines                         841         1271\n",
       "American Airlines                         1299         1450\n",
       "United Airlines                           1657         2281"
      ]
     },
     "execution_count": 68,
     "metadata": {},
     "output_type": "execute_result"
    }
   ],
   "source": [
    "# Groupby cust for delivery and order\n",
    "cust_order = df.groupby('customer_name',sort=True,as_index=True)[['delivery_total','order_total']].sum().copy()\n",
    "cust_order_tail = cust_order.sort_values('order_total', ascending=True).tail(10)\n",
    "cust_order_tail"
   ]
  },
  {
   "cell_type": "code",
   "execution_count": 69,
   "metadata": {},
   "outputs": [
    {
     "data": {
      "image/png": "[encoded data removed]",
      "text/plain": [
       "<Figure size 576x576 with 1 Axes>"
      ]
     },
     "metadata": {
      "needs_background": "light"
     },
     "output_type": "display_data"
    }
   ],
   "source": [
    "# horizontal bar plot for total order/deliveries of top customer\n",
    "cust_order_tail.plot(kind='barh', figsize=(8, 8))\n",
    "\n",
    "plt.xlabel('Total') \n",
    "plt.ylabel('Customer Name')\n",
    "plt.title('Customer total order/delivery')\n",
    "\n",
    "plt.show()"
   ]
  },
  {
   "cell_type": "markdown",
   "metadata": {},
   "source": [
    "Based on the table and plot above, \n",
    "\n",
    "Overall, United Airlines has the highest order and delivery over the years with almost 2300 total order, followed by American Airlines at 1450 total order. Based on the graph, there seems to be a lot of orders that has not been delivered to United Airlines, Southwest Airlines, and Lion Air"
   ]
  },
  {
   "cell_type": "code",
   "execution_count": 70,
   "metadata": {},
   "outputs": [
    {
     "data": {
      "text/html": [
       "<div>\n",
       "<style scoped>\n",
       "    .dataframe tbody tr th:only-of-type {\n",
       "        vertical-align: middle;\n",
       "    }\n",
       "\n",
       "    .dataframe tbody tr th {\n",
       "        vertical-align: top;\n",
       "    }\n",
       "\n",
       "    .dataframe thead th {\n",
       "        text-align: right;\n",
       "    }\n",
       "</style>\n",
       "<table border=\"1\" class=\"dataframe\">\n",
       "  <thead>\n",
       "    <tr style=\"text-align: right;\">\n",
       "      <th></th>\n",
       "      <th>delivery_total</th>\n",
       "      <th>order_total</th>\n",
       "    </tr>\n",
       "    <tr>\n",
       "      <th>customer_name</th>\n",
       "      <th></th>\n",
       "      <th></th>\n",
       "    </tr>\n",
       "  </thead>\n",
       "  <tbody>\n",
       "    <tr>\n",
       "      <th>American Airlines</th>\n",
       "      <td>93</td>\n",
       "      <td>199</td>\n",
       "    </tr>\n",
       "    <tr>\n",
       "      <th>VietJet Air</th>\n",
       "      <td>0</td>\n",
       "      <td>200</td>\n",
       "    </tr>\n",
       "    <tr>\n",
       "      <th>AerCap</th>\n",
       "      <td>19</td>\n",
       "      <td>202</td>\n",
       "    </tr>\n",
       "    <tr>\n",
       "      <th>Jet Airways</th>\n",
       "      <td>4</td>\n",
       "      <td>242</td>\n",
       "    </tr>\n",
       "    <tr>\n",
       "      <th>flydubai</th>\n",
       "      <td>39</td>\n",
       "      <td>262</td>\n",
       "    </tr>\n",
       "    <tr>\n",
       "      <th>Lion Air</th>\n",
       "      <td>22</td>\n",
       "      <td>280</td>\n",
       "    </tr>\n",
       "    <tr>\n",
       "      <th>Air Lease Corporation</th>\n",
       "      <td>79</td>\n",
       "      <td>287</td>\n",
       "    </tr>\n",
       "    <tr>\n",
       "      <th>Southwest Airlines</th>\n",
       "      <td>66</td>\n",
       "      <td>335</td>\n",
       "    </tr>\n",
       "    <tr>\n",
       "      <th>Ryanair</th>\n",
       "      <td>249</td>\n",
       "      <td>393</td>\n",
       "    </tr>\n",
       "    <tr>\n",
       "      <th>United Airlines</th>\n",
       "      <td>171</td>\n",
       "      <td>614</td>\n",
       "    </tr>\n",
       "  </tbody>\n",
       "</table>\n",
       "</div>"
      ],
      "text/plain": [
       "                       delivery_total  order_total\n",
       "customer_name                                     \n",
       "American Airlines                  93          199\n",
       "VietJet Air                         0          200\n",
       "AerCap                             19          202\n",
       "Jet Airways                         4          242\n",
       "flydubai                           39          262\n",
       "Lion Air                           22          280\n",
       "Air Lease Corporation              79          287\n",
       "Southwest Airlines                 66          335\n",
       "Ryanair                           249          393\n",
       "United Airlines                   171          614"
      ]
     },
     "execution_count": 70,
     "metadata": {},
     "output_type": "execute_result"
    }
   ],
   "source": [
    "# Groupby cust for delivery and order for last 10 years\n",
    "cust_order_recent = recent_order.groupby('customer_name',sort=True,as_index=True)[['delivery_total','order_total']].sum()\n",
    "cust_order_recent = cust_order_recent.sort_values('order_total', ascending=True).tail(10)\n",
    "cust_order_recent"
   ]
  },
  {
   "cell_type": "code",
   "execution_count": 71,
   "metadata": {},
   "outputs": [
    {
     "data": {
      "image/png": "[encoded data removed]",
      "text/plain": [
       "<Figure size 576x576 with 1 Axes>"
      ]
     },
     "metadata": {
      "needs_background": "light"
     },
     "output_type": "display_data"
    }
   ],
   "source": [
    "# horizontal bar plot for total order/deliveries of top customer\n",
    "cust_order_recent.plot(kind='barh', figsize=(8, 8))\n",
    "\n",
    "plt.xlabel('Total') \n",
    "plt.ylabel('Customer Name')\n",
    "plt.title('Customer total order/delivery')\n",
    "\n",
    "plt.show()"
   ]
  },
  {
   "cell_type": "markdown",
   "metadata": {},
   "source": [
    "In the last 10 years, United Airlines still order the most aircraft to boeing. United Airlines, American Airlines, Ryan Air, Southwest Airlines, Lion Air still order a lot of aircraft, proving them to be a loyal customer.\n",
    "\n",
    "We can see that a lot of the orders for the last 10 years has not been delivered. Perhaps this kind of long delivery is normal for aircraft manufacturer, in order to determine it for sure, further analysis with comparison aganinst other aircraft manufacturer regarding delivery time must be made."
   ]
  },
  {
   "cell_type": "markdown",
   "metadata": {},
   "source": [
    "## Overall Analysis"
   ]
  },
  {
   "cell_type": "markdown",
   "metadata": {},
   "source": [
    "Overall, from all the analysis that has been completed, it can be concluded that:\n",
    "1. Boeing's average total order is higher than its average total delivery, which means that Boeing still have a lot of unfilled orders.\n",
    "2. Boeing 737 MAX is the most ordered aircraft of the last 10 years and of all time. Presummably it just recently surpass 737-800 order of all time. This means that 737 MAX is a successful product.\n",
    "3. The most used engine of the lsat 10 years and of all time is CF (CFM International Leap), and it is likely that this will still be the case for a few years later.\n",
    "4. United Airlines, American Airlines, Ryan Air, Southwest Airlines, Lion Air are a loyal customer to Boeing. A lot of the unfilled orders is within the last 10 years. "
   ]
  }
 ],
 "metadata": {
  "kernelspec": {
   "display_name": "Python 3.9.12 ('base')",
   "language": "python",
   "name": "python3"
  },
  "language_info": {
   "codemirror_mode": {
    "name": "ipython",
    "version": 3
   },
   "file_extension": ".py",
   "mimetype": "text/x-python",
   "name": "python",
   "nbconvert_exporter": "python",
   "pygments_lexer": "ipython3",
   "version": "3.9.12"
  },
  "orig_nbformat": 4,
  "vscode": {
   "interpreter": {
    "hash": "f1afcb149df17e101497bf3db9a7e7a33fd697b87a8719fddc600c709fe6bd2a"
   }
  }
 },
 "nbformat": 4,
 "nbformat_minor": 2
}
